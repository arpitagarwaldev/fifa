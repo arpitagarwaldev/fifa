{
 "cells": [
  {
   "cell_type": "code",
   "execution_count": 1,
   "metadata": {},
   "outputs": [
    {
     "data": {
      "text/plain": [
       "'project\\n\\n1. Data ingestion\\n2. Data Transformation\\n3. Model Trainer\\n4. model Evaluation\\n5. Model Deployment\\n'"
      ]
     },
     "execution_count": 1,
     "metadata": {},
     "output_type": "execute_result"
    }
   ],
   "source": [
    "\"\"\"project\n",
    "\n",
    "1. Data ingestion\n",
    "2. Data Transformation\n",
    "3. Model Trainer\n",
    "4. model Evaluation\n",
    "5. Model Deployment\n",
    "\"\"\""
   ]
  },
  {
   "cell_type": "code",
   "execution_count": null,
   "metadata": {},
   "outputs": [
    {
     "data": {
      "text/plain": [
       "'Lec1\\n1- Set up the github {Repo}\\na) new enviornment\\nb) setup.py\\nc) requiremnt.txt\\n'"
      ]
     },
     "execution_count": 1,
     "metadata": {},
     "output_type": "execute_result"
    }
   ],
   "source": [
    "\"\"\"Lec1\n",
    "1- Set up the github {Repo}\n",
    "a) new enviornment\n",
    "b) setup.py\n",
    "c) requiremnt.txt\n",
    "\n",
    "2 Src folder aND build the package\n",
    "\"\"\""
   ]
  },
  {
   "cell_type": "code",
   "execution_count": null,
   "metadata": {},
   "outputs": [],
   "source": []
  }
 ],
 "metadata": {
  "kernelspec": {
   "display_name": "Python 3",
   "language": "python",
   "name": "python3"
  },
  "language_info": {
   "codemirror_mode": {
    "name": "ipython",
    "version": 3
   },
   "file_extension": ".py",
   "mimetype": "text/x-python",
   "name": "python",
   "nbconvert_exporter": "python",
   "pygments_lexer": "ipython3",
   "version": "3.12.8"
  }
 },
 "nbformat": 4,
 "nbformat_minor": 2
}
